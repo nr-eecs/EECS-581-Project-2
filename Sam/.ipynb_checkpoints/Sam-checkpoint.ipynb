{
 "cells": [
  {
   "cell_type": "code",
   "execution_count": 2,
   "id": "3159dbb9",
   "metadata": {},
   "outputs": [
    {
     "name": "stdout",
     "output_type": "stream",
     "text": [
      "Input the ship's top-leftmost position (e.g., A6): B6\n",
      "[0, 0, 0, 0, 0, 0, 0, 0, 0, 0]\n",
      "[0, 0, 0, 0, 0, 1, 0, 0, 0, 0]\n",
      "[0, 0, 0, 0, 0, 0, 0, 0, 0, 0]\n",
      "[0, 0, 0, 0, 0, 0, 0, 0, 0, 0]\n",
      "[0, 0, 0, 0, 0, 0, 0, 0, 0, 0]\n",
      "[0, 0, 0, 0, 0, 0, 0, 0, 0, 0]\n",
      "[0, 0, 0, 0, 0, 0, 0, 0, 0, 0]\n",
      "[0, 0, 0, 0, 0, 0, 0, 0, 0, 0]\n",
      "[0, 0, 0, 0, 0, 0, 0, 0, 0, 0]\n",
      "[0, 0, 0, 0, 0, 0, 0, 0, 0, 0]\n"
     ]
    }
   ],
   "source": [
    "# Programs: place_ship and letter_to_index\n",
    "# Description: this program places down ships on the array by starting at the top-leftmost position \n",
    "# and going either down or right depending on the horizontal or vertical direction\n",
    "# the temp_board may have to be replaced in future iterations depending on how well it\n",
    "# functions with the team's code\n",
    "# Inputs: player_num, ship_size, orientation; letter\n",
    "# Outputs: temp_board\n",
    "# Author: Samuel Harrison\n",
    "# Creation Date: 9/11/24\n",
    "# Current Time Spent: 52 minutes\n",
    "\n",
    "from typing import Literal, List\n",
    "\n",
    "def place_ship(player_num: int, ship_size: int, orientation: Literal['horizontal', 'vertical']) -> List:\n",
    "    def letter_to_index(letter: str) -> int:\n",
    "        return ord(letter.upper()) - ord('A')\n",
    "    \n",
    "    temp_board = [[0 for _ in range(10)] for _ in range(10)] #initializes blank 10x10 board (replace/remove later)\n",
    "    \n",
    "    position = input(\"Input the ship's top-leftmost position (e.g., A6): \").strip()\n",
    "    \n",
    "    row = letter_to_index(position[0])  # converts characters to numbers\n",
    "    col = int(position[1:]) - 1         # subtracts 1 due to 0-indexed\n",
    "    \n",
    "    # the temp_board has the ships' sizes as identifiers of where they are placed\n",
    "    if orientation == 'horizontal':\n",
    "    # places ship horizontally by changing line of cells\n",
    "    # increases column index for length of ship\n",
    "        for i in range(ship_size):\n",
    "            temp_board[row][col + i] = ship_size \n",
    "        \n",
    "    elif orientation == 'vertical':\n",
    "    # places ship vertically by changing line of cells\n",
    "    # increases row index for length of ship\n",
    "        for i in range(ship_size):\n",
    "            temp_board[row + i][col] = ship_size\n",
    "            \n",
    "    return temp_board\n",
    "\n",
    "# example usage (remove later)\n",
    "# player_num, ship_size, orientation\n",
    "board = place_ship(2, 1, 'vertical')\n",
    "for row in board:\n",
    "    print(row)\n"
   ]
  }
 ],
 "metadata": {
  "kernelspec": {
   "display_name": "Python 3 (ipykernel)",
   "language": "python",
   "name": "python3"
  },
  "language_info": {
   "codemirror_mode": {
    "name": "ipython",
    "version": 3
   },
   "file_extension": ".py",
   "mimetype": "text/x-python",
   "name": "python",
   "nbconvert_exporter": "python",
   "pygments_lexer": "ipython3",
   "version": "3.9.13"
  }
 },
 "nbformat": 4,
 "nbformat_minor": 5
}
